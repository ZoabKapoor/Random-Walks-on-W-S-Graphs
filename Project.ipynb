{
 "cells": [
  {
   "cell_type": "code",
   "execution_count": 1,
   "metadata": {
    "collapsed": false
   },
   "outputs": [],
   "source": [
    "from __future__ import division\n",
    "import networkx \n",
    "import project\n",
    "import math\n",
    "import matplotlib.pyplot as plt"
   ]
  },
  {
   "cell_type": "code",
   "execution_count": 11,
   "metadata": {
    "collapsed": false
   },
   "outputs": [
    {
     "name": "stdout",
     "output_type": "stream",
     "text": [
      "Using matplotlib backend: MacOSX\n"
     ]
    }
   ],
   "source": [
    "%matplotlib"
   ]
  },
  {
   "cell_type": "code",
   "execution_count": 3,
   "metadata": {
    "collapsed": true
   },
   "outputs": [],
   "source": [
    "def run_sim_and_plot(N, t, reps, betas, alphas):\n",
    "    \"\"\"Runs the simulation and plots the results with each alpha in the list of guesses for alpha.\"\"\"\n",
    "    graphs = project.create_WS_graphs(N,betas)\n",
    "    averages = project.avg_randwalks(graphs,t,reps)\n",
    "    runs = []\n",
    "    for i in range(len(graphs)):\n",
    "        runs.append(project.Run(betas[i], averages[i]))\n",
    "    for alpha in alphas:\n",
    "        fig = plt.figure()\n",
    "        x_vals, y_vals = project.transform(runs, alpha)\n",
    "        fig.suptitle('alpha = ' + str(alpha))\n",
    "        plt.scatter(x_vals, y_vals)"
   ]
  },
  {
   "cell_type": "code",
   "execution_count": 4,
   "metadata": {
    "collapsed": true
   },
   "outputs": [],
   "source": [
    "def run_sim_ER(N, t, reps, p):\n",
    "    \"\"\"Utility function: runs the simulation for an E-R graph.\"\"\"\n",
    "    graphs = [networkx.erdos_renyi_graph(N, p)]\n",
    "    runs = project.avg_randwalks(graphs,t,reps)\n",
    "    run = runs[0]\n",
    "    x_vals = []\n",
    "    y_vals = []\n",
    "    for i in range(1,len(run)):\n",
    "        x_vals.append(i)\n",
    "        y_vals.append(run[i])\n",
    "    return x_vals, y_vals"
   ]
  },
  {
   "cell_type": "code",
   "execution_count": 5,
   "metadata": {
    "collapsed": true
   },
   "outputs": [],
   "source": [
    "def run_sim_path(N,t,reps):\n",
    "    \"\"\"Utility function: runs the simulation for a path.\"\"\"\n",
    "    graphs = [networkx.path_graph(N)]\n",
    "    runs = project.avg_randwalks(graphs,t,reps)\n",
    "    run = runs[0]\n",
    "    x_vals = []\n",
    "    y_vals = []\n",
    "    for i in range(1,len(run)):\n",
    "        x_vals.append(i)\n",
    "        y_vals.append(run[i])\n",
    "    return x_vals, y_vals"
   ]
  },
  {
   "cell_type": "code",
   "execution_count": 6,
   "metadata": {
    "collapsed": true
   },
   "outputs": [],
   "source": [
    "def run_sim_WS(N, t, reps, betas, alpha):\n",
    "    \"\"\"Runs the simulation and plots the results with the alpha given.\"\"\"\n",
    "    graphs = project.create_WS_graphs(N,betas)\n",
    "    averages = project.avg_randwalks(graphs,t,reps)\n",
    "    runs = []\n",
    "    for i in range(len(graphs)):\n",
    "        runs.append(project.Run(betas[i], averages[i]))\n",
    "    x_vals, y_vals = project.transform(runs, alpha)\n",
    "    return x_vals, y_vals"
   ]
  },
  {
   "cell_type": "code",
   "execution_count": 7,
   "metadata": {
    "collapsed": true
   },
   "outputs": [],
   "source": [
    "def run_sim_newman(N, t, reps, betas, alpha):\n",
    "    \"\"\"Runs the simulation and plots the results with the alpha given.\"\"\"\n",
    "    graphs = project.create_newman_WS_graphs(N,betas)\n",
    "    averages = project.avg_randwalks(graphs,t,reps)\n",
    "    runs = []\n",
    "    for i in range(len(graphs)):\n",
    "        runs.append(project.Run(betas[i], averages[i]))\n",
    "    x_vals, y_vals = project.transform(runs, alpha)\n",
    "    return x_vals, y_vals"
   ]
  },
  {
   "cell_type": "code",
   "execution_count": 8,
   "metadata": {
    "collapsed": false,
    "scrolled": true
   },
   "outputs": [],
   "source": [
    "x_vals1, y_vals1 = run_sim_ER(10000, 100, 10, 0.001)"
   ]
  },
  {
   "cell_type": "code",
   "execution_count": 9,
   "metadata": {
    "collapsed": false,
    "scrolled": true
   },
   "outputs": [
    {
     "data": {
      "image/png": "[encoded data removed]",
      "text/plain": [
       "<matplotlib.figure.Figure at 0x10670fa10>"
      ]
     },
     "metadata": {},
     "output_type": "display_data"
    }
   ],
   "source": [
    "x_vals2, y_vals2 = run_sim_path(10000, 10000, 100)"
   ]
  },
  {
   "cell_type": "code",
   "execution_count": 12,
   "metadata": {
    "collapsed": false
   },
   "outputs": [],
   "source": [
    "fig1 = plt.figure()"
   ]
  },
  {
   "cell_type": "code",
   "execution_count": 13,
   "metadata": {
    "collapsed": true
   },
   "outputs": [],
   "source": [
    "ax = fig1.add_subplot(1,1,1)"
   ]
  },
  {
   "cell_type": "code",
   "execution_count": 15,
   "metadata": {
    "collapsed": false
   },
   "outputs": [
    {
     "data": {
      "text/plain": [
       "<matplotlib.text.Text at 0x109803fd0>"
      ]
     },
     "execution_count": 15,
     "metadata": {},
     "output_type": "execute_result"
    }
   ],
   "source": [
    "fig1.suptitle('E-R graph, N = 10000, t = 100, p = 0.001, reps = 10')"
   ]
  },
  {
   "cell_type": "code",
   "execution_count": null,
   "metadata": {
    "collapsed": true
   },
   "outputs": [],
   "source": [
    "ax.scatter(x_vals1, y_vals1)"
   ]
  },
  {
   "cell_type": "code",
   "execution_count": 17,
   "metadata": {
    "collapsed": true
   },
   "outputs": [],
   "source": [
    "fig2 = plt.figure()"
   ]
  },
  {
   "cell_type": "code",
   "execution_count": 18,
   "metadata": {
    "collapsed": true
   },
   "outputs": [],
   "source": [
    "bx = fig2.add_subplot(1,1,1)"
   ]
  },
  {
   "cell_type": "code",
   "execution_count": 20,
   "metadata": {
    "collapsed": false
   },
   "outputs": [
    {
     "data": {
      "text/plain": [
       "<matplotlib.text.Text at 0x109397250>"
      ]
     },
     "execution_count": 20,
     "metadata": {},
     "output_type": "execute_result"
    }
   ],
   "source": [
    "fig2.suptitle('Path graph, N = 10000, t = 10000, reps = 100')"
   ]
  },
  {
   "cell_type": "code",
   "execution_count": 21,
   "metadata": {
    "collapsed": false
   },
   "outputs": [
    {
     "data": {
      "text/plain": [
       "<matplotlib.collections.PathCollection at 0x10ae17f50>"
      ]
     },
     "execution_count": 21,
     "metadata": {},
     "output_type": "execute_result"
    }
   ],
   "source": [
    "bx.scatter(x_vals2, y_vals2)"
   ]
  },
  {
   "cell_type": "code",
   "execution_count": 88,
   "metadata": {
    "collapsed": true
   },
   "outputs": [],
   "source": [
    "x_vals, y_vals = run_sim_WS(10**5, 10**5, 100, [10**(-3),10**(-2.5),10**(-2),10**(-1)], 2)"
   ]
  },
  {
   "cell_type": "code",
   "execution_count": 89,
   "metadata": {
    "collapsed": true
   },
   "outputs": [],
   "source": [
    "fig3 = plt.figure()"
   ]
  },
  {
   "cell_type": "code",
   "execution_count": 90,
   "metadata": {
    "collapsed": true
   },
   "outputs": [],
   "source": [
    "cx = fig3.add_subplot(1,1,1)"
   ]
  },
  {
   "cell_type": "code",
   "execution_count": 91,
   "metadata": {
    "collapsed": true
   },
   "outputs": [],
   "source": [
    "cx.set_xscale('log')"
   ]
  },
  {
   "cell_type": "code",
   "execution_count": 92,
   "metadata": {
    "collapsed": true
   },
   "outputs": [],
   "source": [
    "cx.set_yscale('log')"
   ]
  },
  {
   "cell_type": "code",
   "execution_count": 93,
   "metadata": {
    "collapsed": false
   },
   "outputs": [
    {
     "data": {
      "text/plain": [
       "<matplotlib.text.Text at 0x123fac490>"
      ]
     },
     "execution_count": 93,
     "metadata": {},
     "output_type": "execute_result"
    }
   ],
   "source": [
    "fig3.suptitle('W-S graph, alpha = 2, N = 10^5, t = 10^5, reps = 100, betas = [10^-3, 10^-2.5, 10^-2, 10^-1]')"
   ]
  },
  {
   "cell_type": "code",
   "execution_count": 94,
   "metadata": {
    "collapsed": false
   },
   "outputs": [
    {
     "data": {
      "text/plain": [
       "<matplotlib.collections.PathCollection at 0x123fac790>"
      ]
     },
     "execution_count": 94,
     "metadata": {},
     "output_type": "execute_result"
    }
   ],
   "source": [
    "cx.scatter(x_vals,y_vals)"
   ]
  }
 ],
 "metadata": {
  "kernelspec": {
   "display_name": "Python 2",
   "language": "python",
   "name": "python2"
  },
  "language_info": {
   "codemirror_mode": {
    "name": "ipython",
    "version": 2
   },
   "file_extension": ".py",
   "mimetype": "text/x-python",
   "name": "python",
   "nbconvert_exporter": "python",
   "pygments_lexer": "ipython2",
   "version": "2.7.11"
  }
 },
 "nbformat": 4,
 "nbformat_minor": 0
}

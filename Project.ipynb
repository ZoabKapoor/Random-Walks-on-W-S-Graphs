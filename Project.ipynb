{
 "cells": [
  {
   "cell_type": "code",
   "execution_count": 1,
   "metadata": {
    "collapsed": false
   },
   "outputs": [],
   "source": [
    "from __future__ import division\n",
    "import networkx \n",
    "import project\n",
    "import math\n",
    "import matplotlib.pyplot as plt"
   ]
  },
  {
   "cell_type": "code",
   "execution_count": 2,
   "metadata": {
    "collapsed": true
   },
   "outputs": [],
   "source": [
    "%matplotlib inline"
   ]
  },
  {
   "cell_type": "code",
   "execution_count": 2,
   "metadata": {
    "collapsed": true
   },
   "outputs": [],
   "source": [
    "def run_sim_and_plot(N, t, reps, betas, alphas):\n",
    "    \"\"\"Runs the simulation and plots the results with each alpha in the list of guesses for alpha.\"\"\"\n",
    "    graphs = project.create_WS_graphs(N,betas)\n",
    "    averages = project.avg_randwalks(graphs,t,reps)\n",
    "    runs = []\n",
    "    for i in range(len(graphs)):\n",
    "        runs.append(project.Run(betas[i], averages[i]))\n",
    "    for alpha in alphas:\n",
    "        fig = plt.figure()\n",
    "        x_vals, y_vals = project.transform(runs, alpha)\n",
    "        fig.suptitle('alpha = ' + str(alpha))\n",
    "        plt.scatter(x_vals, y_vals)"
   ]
  },
  {
   "cell_type": "code",
   "execution_count": 6,
   "metadata": {
    "collapsed": true
   },
   "outputs": [],
   "source": [
    "def run_sim_and_plot_ER(N, t, reps, p):\n",
    "    \"\"\"Utility function: runs the simulation for an E-R graph and plots s(t) against\n",
    "    t to see if the simulation works correctly (we expect a line).\"\"\"\n",
    "    graphs = [networkx.erdos_renyi_graph(N, p)]\n",
    "    runs = project.avg_randwalks(graphs,t,reps)\n",
    "    run = runs[0]\n",
    "    x_vals = []\n",
    "    y_vals = []\n",
    "    for i in range(1,len(run)):\n",
    "        x_vals.append(i)\n",
    "        y_vals.append(run[i])\n",
    "    plt.scatter(x_vals, y_vals)"
   ]
  },
  {
   "cell_type": "code",
   "execution_count": 7,
   "metadata": {
    "collapsed": true
   },
   "outputs": [],
   "source": [
    "def run_sim_and_plot_path(N,t,reps):\n",
    "    \"\"\"Utility function: runs the simulation for a path and plots s(t) against t \n",
    "    to see if the simulation works correctly (we expect a sqrt curve).\"\"\"\n",
    "    graphs = [networkx.path_graph(N)]\n",
    "    runs = project.avg_randwalks(graphs,t,reps)\n",
    "    run = runs[0]\n",
    "    x_vals = []\n",
    "    y_vals = []\n",
    "    for i in range(1,len(run)):\n",
    "        x_vals.append(i)\n",
    "        y_vals.append(run[i])\n",
    "    plt.scatter(x_vals, y_vals)"
   ]
  },
  {
   "cell_type": "code",
   "execution_count": 10,
   "metadata": {
    "collapsed": false,
    "scrolled": true
   },
   "outputs": [
    {
     "data": {
      "image/png": "[encoded data removed]",
      "text/plain": [
       "<matplotlib.figure.Figure at 0x106919d90>"
      ]
     },
     "metadata": {},
     "output_type": "display_data"
    }
   ],
   "source": [
    "run_sim_and_plot_ER(10000, 100, 10, 0.001)"
   ]
  },
  {
   "cell_type": "code",
   "execution_count": 21,
   "metadata": {
    "collapsed": false,
    "scrolled": false
   },
   "outputs": [
    {
     "data": {
      "image/png": "[encoded data removed]",
      "text/plain": [
       "<matplotlib.figure.Figure at 0x10a10ecd0>"
      ]
     },
     "metadata": {},
     "output_type": "display_data"
    }
   ],
   "source": [
    "run_sim_and_plot_path(10000, 10000, 100)"
   ]
  },
  {
   "cell_type": "code",
   "execution_count": 4,
   "metadata": {
    "collapsed": false,
    "scrolled": true
   },
   "outputs": [
    {
     "name": "stdout",
     "output_type": "stream",
     "text": [
      "Using matplotlib backend: MacOSX\n"
     ]
    }
   ],
   "source": [
    "%matplotlib"
   ]
  },
  {
   "cell_type": "code",
   "execution_count": 12,
   "metadata": {
    "collapsed": false
   },
   "outputs": [],
   "source": [
    "x_vals, y_vals = run_sim_no_plot(10**5, 10**5, 100, [10**(-4), 10**(-3.5), 10**(-3), 10**(-2.5)], 2)"
   ]
  },
  {
   "cell_type": "code",
   "execution_count": 13,
   "metadata": {
    "collapsed": false
   },
   "outputs": [
    {
     "data": {
      "text/plain": [
       "399996"
      ]
     },
     "execution_count": 13,
     "metadata": {},
     "output_type": "execute_result"
    }
   ],
   "source": [
    "len(x_vals)"
   ]
  },
  {
   "cell_type": "code",
   "execution_count": 14,
   "metadata": {
    "collapsed": true
   },
   "outputs": [],
   "source": [
    "fig = plt.figure()"
   ]
  },
  {
   "cell_type": "code",
   "execution_count": 15,
   "metadata": {
    "collapsed": true
   },
   "outputs": [],
   "source": [
    "ax = fig.add_subplot(1,1,1)"
   ]
  },
  {
   "cell_type": "code",
   "execution_count": 16,
   "metadata": {
    "collapsed": true
   },
   "outputs": [],
   "source": [
    "ax.set_xscale('log')"
   ]
  },
  {
   "cell_type": "code",
   "execution_count": 22,
   "metadata": {
    "collapsed": true
   },
   "outputs": [],
   "source": [
    "ax.set_yscale('log')"
   ]
  },
  {
   "cell_type": "code",
   "execution_count": 17,
   "metadata": {
    "collapsed": false
   },
   "outputs": [
    {
     "data": {
      "text/plain": [
       "<matplotlib.collections.PathCollection at 0x11ab0e090>"
      ]
     },
     "execution_count": 17,
     "metadata": {},
     "output_type": "execute_result"
    }
   ],
   "source": [
    "plt.scatter(x_vals,y_vals)"
   ]
  },
  {
   "cell_type": "code",
   "execution_count": 23,
   "metadata": {
    "collapsed": false
   },
   "outputs": [
    {
     "data": {
      "text/plain": [
       "(1, 100)"
      ]
     },
     "execution_count": 23,
     "metadata": {},
     "output_type": "execute_result"
    }
   ],
   "source": [
    "plt.ylim(10**0,10**2)"
   ]
  },
  {
   "cell_type": "code",
   "execution_count": 26,
   "metadata": {
    "collapsed": false
   },
   "outputs": [
    {
     "data": {
      "text/plain": [
       "(1e-05, 0.0001)"
      ]
     },
     "execution_count": 26,
     "metadata": {},
     "output_type": "execute_result"
    }
   ],
   "source": [
    "plt.ylim(10**-5,10**-4)"
   ]
  },
  {
   "cell_type": "code",
   "execution_count": 11,
   "metadata": {
    "collapsed": true
   },
   "outputs": [],
   "source": [
    "def run_sim_no_plot(N, t, reps, betas, alpha):\n",
    "    \"\"\"Runs the simulation and plots the results with the alpha given.\"\"\"\n",
    "    graphs = project.create_WS_graphs(N,betas)\n",
    "    averages = project.avg_randwalks(graphs,t,reps)\n",
    "    runs = []\n",
    "    for i in range(len(graphs)):\n",
    "        runs.append(project.Run(betas[i], averages[i]))\n",
    "    x_vals, y_vals = project.transform(runs, alpha)\n",
    "    return x_vals, y_vals"
   ]
  }
 ],
 "metadata": {
  "kernelspec": {
   "display_name": "Python 2",
   "language": "python",
   "name": "python2"
  },
  "language_info": {
   "codemirror_mode": {
    "name": "ipython",
    "version": 2
   },
   "file_extension": ".py",
   "mimetype": "text/x-python",
   "name": "python",
   "nbconvert_exporter": "python",
   "pygments_lexer": "ipython2",
   "version": "2.7.11"
  }
 },
 "nbformat": 4,
 "nbformat_minor": 0
}

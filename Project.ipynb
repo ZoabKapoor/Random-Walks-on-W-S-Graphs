{
 "cells": [
  {
   "cell_type": "code",
   "execution_count": 4,
   "metadata": {
    "collapsed": false
   },
   "outputs": [],
   "source": [
    "import networkx \n",
    "import random"
   ]
  },
  {
   "cell_type": "code",
   "execution_count": 5,
   "metadata": {
    "collapsed": true
   },
   "outputs": [],
   "source": [
    "class Point:\n",
    "    def __init__(self, t, s, beta):\n",
    "        self.t = t\n",
    "        self.s = s\n",
    "        self.beta = beta\n",
    "    \n",
    "    def __repr__(self):\n",
    "        print \"Timestep is: \" + t\n",
    "        print \"Number of visited nodes is: \" + s\n",
    "        print \"Rewiring probabability is: \" + beta"
   ]
  },
  {
   "cell_type": "code",
   "execution_count": null,
   "metadata": {
    "collapsed": true
   },
   "outputs": [],
   "source": [
    "def run_the_damn_simulation(N, t, reps, betas):\n",
    "    \"\"\"Creates large W-S graphs with varying rewiring probability, simulates reps random walks for t timesteps in these \n",
    "    graphs, and plots s(t)/sqrt(t) against \n",
    "    t*beta^{alpha} using (t, s(t), beta) tuples. \n",
    "    \n",
    "    Parameters: \n",
    "        N - number of nodes in the W-S graph\n",
    "        reps - number of times to repeat each random walk\n",
    "        t - number of timesteps to run the random walk for\n",
    "        betas - list of rewiring probabilities to create W-S graphs with\"\"\"\n",
    "    \n",
    "    NUM_NEIGHBORS = 2\n",
    "    points = []\n",
    "    \n",
    "    for beta in betas:\n",
    "        graph = networkx.watts_strogatz_graph(N, NUM_NEIGHBORS, beta)\n",
    "        # run the simulation & get avg (t,s,beta) points\n",
    "        points += simulate_random_walk(graph,t,reps,beta)\n",
    "        \n",
    "    # graph the thing\n",
    "        "
   ]
  },
  {
   "cell_type": "code",
   "execution_count": 11,
   "metadata": {
    "collapsed": true
   },
   "outputs": [],
   "source": [
    "def simulate_random_walk(g, t, reps, beta):\n",
    "    \"\"\"simulates a random walk on graph g for t steps reps times. Returns a list of Points.\"\"\"\n",
    "    # list = []\n",
    "    # for rep in range(reps):\n",
    "    visited = set()\n",
    "    pos = random.choice(g.nodes())\n",
    "    visited.add(pos)\n",
    "    for step in range(t):\n",
    "        neighbors = g.neighbors(pos)\n",
    "        next = random.choice(neighbors)\n",
    "        pos = next\n",
    "        visited.add(pos)\n",
    "    print visited\n",
    "    return visited"
   ]
  },
  {
   "cell_type": "code",
   "execution_count": 14,
   "metadata": {
    "collapsed": false
   },
   "outputs": [
    {
     "name": "stdout",
     "output_type": "stream",
     "text": [
      "set([0, 6, 7, 13, 17, 18, 19])\n"
     ]
    },
    {
     "data": {
      "text/plain": [
       "{0, 6, 7, 13, 17, 18, 19}"
      ]
     },
     "execution_count": 14,
     "metadata": {},
     "output_type": "execute_result"
    }
   ],
   "source": [
    "simulate_random_walk(networkx.watts_strogatz_graph(20, 2, 0.3), 10, 0, 0)"
   ]
  }
 ],
 "metadata": {
  "kernelspec": {
   "display_name": "Python 2",
   "language": "python",
   "name": "python2"
  },
  "language_info": {
   "codemirror_mode": {
    "name": "ipython",
    "version": 2
   },
   "file_extension": ".py",
   "mimetype": "text/x-python",
   "name": "python",
   "nbconvert_exporter": "python",
   "pygments_lexer": "ipython2",
   "version": "2.7.8"
  }
 },
 "nbformat": 4,
 "nbformat_minor": 0
}
